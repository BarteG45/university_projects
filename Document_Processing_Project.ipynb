{
  "cells": [
    {
      "cell_type": "markdown",
      "metadata": {
        "id": "Qm5eRNgyHIrU"
      },
      "source": [
        "# 1. Text summarization with SpaCy (extractive approach)\n",
        "This method takes the input from the user and then choose the most sourceful sentences based on the number of important words contained in each sentence. Which are the important words? These are simply nouns, verbs and adjectives, so this code check every token in the sentence using SpaCy tools and return the amount of important words for every sentence. Top X sentences (with the biggest number of key words) create our summary. It relies on sentences from the original text, as this method uses the extractive approach."
      ]
    },
    {
      "cell_type": "code",
      "execution_count": null,
      "metadata": {
        "colab": {
          "base_uri": "https://localhost:8080/"
        },
        "id": "_775o-0pr07z",
        "outputId": "2e6fd2c8-5958-4b97-cdee-9f12ba7e81d3"
      },
      "outputs": [
        {
          "name": "stderr",
          "output_type": "stream",
          "text": [
            "[nltk_data] Downloading package punkt_tab to /root/nltk_data...\n",
            "[nltk_data]   Package punkt_tab is already up-to-date!\n",
            "[nltk_data] Downloading package stopwords to /root/nltk_data...\n",
            "[nltk_data]   Package stopwords is already up-to-date!\n",
            "/usr/local/lib/python3.11/dist-packages/spacy/util.py:1740: UserWarning: [W111] Jupyter notebook detected: if using `prefer_gpu()` or `require_gpu()`, include it in the same cell right before `spacy.load()` to ensure that the model is loaded on the correct device. More information: http://spacy.io/usage/v3#jupyter-notebook-gpu\n",
            "  warnings.warn(Warnings.W111)\n"
          ]
        }
      ],
      "source": [
        "import nltk\n",
        "nltk.download('punkt_tab')\n",
        "nltk.download('stopwords')\n",
        "\n",
        "import spacy\n",
        "from nltk.tokenize import sent_tokenize\n",
        "from collections import Counter\n",
        "import pandas as pd\n",
        "import nltk\n",
        "\n",
        "nlp = spacy.load('en_core_web_sm')"
      ]
    },
    {
      "cell_type": "code",
      "execution_count": null,
      "metadata": {
        "colab": {
          "base_uri": "https://localhost:8080/"
        },
        "id": "GvJuinanoY4-",
        "outputId": "37986fb2-9839-46d0-e933-1cd9d7bc4676"
      },
      "outputs": [
        {
          "name": "stdout",
          "output_type": "stream",
          "text": [
            "Please enter the text you want to summarize:\n",
            "Copenhagen is a city that you visit for the vibe rather than for the sights. I found the most rewarding parts of Copenhagen to be wandering through the city and looking at the buildings, stopping for coffee at the coffee trucks along the harbor, and window shopping at the design stores.   Below is a list of the more unusual places I went to in Copenhagen on my latest trip. Many of these are cool corners that I found, not main tourist destinations - so this list isn’t in any way meant as a full itinerary.    This is not an unusual destination - this is Nyhavn, the tourist center of Copenhagen. But it photographs amazingly well, especially on days when the water in the canal is still.  Skiing at Copenhill  Have you ever wanted to go skiing on artificial turf on top of a power plant? Well, you’re in luck. Copenhill is a power plant that has been turned into a ski resort. No, seriously.  The roof of the ski resort is covered in a plastic grass substitute and bits of turf. You can ski down it with regular downhill skis, but it resembles skiing down ice rather than snow. And if you fall, it really hurts. The artificial turf tears up your skin and clothing, and you don’t want to wear your nicest ski gear here.  I ended up skiing down, although I found that it was more similar to going downhill on cross country skis - I never figured out how to edge enough to go down the normal way. (And true to form, I fell while I was on the tow rope. I have never successfully made it up a tow rope.)   I wouldn’t recommend the skiing, but the experience was really cool - I’m glad I did it, just to cross it off my bucket list.   You can also go up to the top either via a hike up concrete steps or an elevator and have a cup of coffee at the apres ski bar at the top. Or if you’re really, really adventurous, there’s a climbing wall that goes straight up the side of the facility.  Overall - I thought this was so cool to see. It’s such an inventive use of what would otherwise be an ugly power plant.    Reffen  Reffen is the name for an area filled with food trucks and outdoor seating, accessible by water taxi from downtown Copenhagen. There’s a shocking variety of food here - everything from American Southern to Nepalese to Kurdish to Peruvian. On sunny days in the spring and summer, it’s filled with locals looking to have delicious street food outside and enjoy the weather.   If you’ve got a long lunch break, or are looking for an afternoon to relax, take the water taxi out here, grab a beer and some food, and find a spot in the sun along the harbor. Copenhagen at its best.   Cisterns  The city of Copenhagen converted their old water cisterns into an underground art gallery. The humidity is at 100%  year round, and it’s always cold inside - and there’s usually water on the floor on top of that. The gallery now does site-specific art installations, which use the architecture of the cisterns. It’s another cool use of abandoned space.   The installation when I visited - it used light screens that changed as you walked around them.   Christiania  Christiania is a free city within Copenhagen. The people who live in Christiania essentially live in a commune in the center of the city. The part that most tourists visit is Pusher’s Alley, where you can see people selling all manner of illegal things. The police have basically agreed to not do raids in this area as long as all activity stays in this area, and photos aren’t allowed int he area.   But I actually think part of Christiania is the worst - it’s just a concentration of things I like to avoid. If you walk around the lake, you’ll be able to walk through the part of Christiania where people have built houses from whatever raw materials they could find. These houses are built in all kinds of interesting ways and are bright and colorful. There are no cars allowed in this area, so you’ll see lots of families out for walks.   Kulturårnet  This is a cafe located in an old watchtower on one of the main bridges in Copenhagen. It’s one of the best places in the city to watch the sunset, although you’ll have to get there early - there are limited seats, and you may have to pay a cover charge to get your table. I wasn’t able to get in, but it came highly recommended by the locals.  The climate change bench (location linked on Google Maps)  This is both a challenge to climb and a solemn reminder about climate change. The bench is a meter off the ground - the amount that sea level will rise by 2100 in this area, and a way to see how many of the buildings and parks in Copenhagen will be underwater if there isn’t meaningful action on climate change soon.  One of the other fun things about this bench is getting on and off it. It took a pull up to get on the bench, and a giant jump down to get off it.   Kissing bridge (Google Maps linked)  This bridge doesn’t look particularly impressive, but I love the story behind it. This bridge took seven years to build because of its design - rather than a typical up and down drawbridge, the two halves of the bridge “kiss” in the middle. Multiple construction firms tried to build it and ended up giving up or going bankrupt because of the difficulty of the design. When the bridge opens, the two halves draw backwards to allow ships to pass through. It’s one of the busiest bike bridges in the city.   Once you cross the kissing bridge, you end up at an outdoor food court. In the summers, there’s usually music and a crowd here - as well as a very cool art installation called the Kosmik Rum. From the outside, it looks like a polygon storage unit, but you can climb inside and see stained glass on the inside. I heard that it’s supposed to represent the universe and the Northern Lights, but like all art, bring your own interpretation.   Circle bridge (Google Maps linked)  Another extremely cool piece of Danish design, this bridge can swing into the harbor to enable boats to pass rather than going up and down. It looks out onto the Black Diamond, the public library addition. Try walking across it and seeing if you can figure out how it would open. The path is purposefully zig-zagged to encourage self-reflection and deep thoughts as you walk across it (at least according to the artist).   One of the other funny things on the walk to the bridge are the concrete barriers in front of the harbor, which are designed to prevent intoxicated bikers from plunging into the harbor on their way home.\n",
            "\n",
            "Summary:\n",
            "If you’ve got a long lunch break, or are looking for an afternoon to relax, take the water taxi out here, grab a beer and some food, and find a spot in the sun along the harbor. I found the most rewarding parts of Copenhagen to be wandering through the city and looking at the buildings, stopping for coffee at the coffee trucks along the harbor, and window shopping at the design stores. The bench is a meter off the ground - the amount that sea level will rise by 2100 in this area, and a way to see how many of the buildings and parks in Copenhagen will be underwater if there isn’t meaningful action on climate change soon.\n"
          ]
        }
      ],
      "source": [
        "def summarize_text():\n",
        "    text = input(\"Please enter the text you want to summarize:\\n\")\n",
        "\n",
        "    sentences = sent_tokenize(text)\n",
        "\n",
        "    preprocessed_sentences = []\n",
        "    for sentence in sentences:\n",
        "        doc = nlp(sentence)\n",
        "        tokens = [token.lemma_ for token in doc if not token.is_stop and not token.is_punct and token.pos_ in ['NOUN', 'VERB', 'ADJ']]\n",
        "        preprocessed_sentences.append(' '.join(tokens))\n",
        "\n",
        "    sentence_scores = [len(sentence.split()) for sentence in preprocessed_sentences]\n",
        "\n",
        "    sorted_sentences = [sentence for score, sentence in sorted(zip(sentence_scores, sentences), reverse=True)]\n",
        "\n",
        "    return ' '.join(sorted_sentences[:3])\n",
        "    print(sorted_sentences)\n",
        "\n",
        "summary = summarize_text()\n",
        "print(\"\\nSummary:\")\n",
        "print(summary)"
      ]
    },
    {
      "cell_type": "markdown",
      "metadata": {
        "id": "SY0DQ_jRNZzW"
      },
      "source": [
        "# 2. Text Summarization with Transformers (abstarctive approach)\n",
        "This method takes the input from the user and uses a pre-trained Transformer model to generate a summary. Unlike extracting specific sentences, Transformers understand the entire context of the input text by leveraging an advanced mechanism called self-attention. This allows the model to identify the most relevant parts of the text while considering the relationships between words, phrases, and ideas throughout the passage. The summary is generated as a new piece of text, rephrased and condensed while retaining the original meaning. Key parameters, such as the desired summary length, can be adjusted to suit different needs. This approach, which is abstractive, produces fluent and coherent summaries suitable for a wide range of content."
      ]
    },
    {
      "cell_type": "code",
      "execution_count": null,
      "metadata": {
        "id": "hhhfE4tqIDJg"
      },
      "outputs": [],
      "source": [
        "import transformers\n",
        "from transformers import pipeline"
      ]
    },
    {
      "cell_type": "code",
      "execution_count": null,
      "metadata": {
        "colab": {
          "base_uri": "https://localhost:8080/"
        },
        "id": "48H5WxebJf3C",
        "outputId": "5dbc7a89-514d-458d-a2da-58e12dca555e"
      },
      "outputs": [
        {
          "name": "stderr",
          "output_type": "stream",
          "text": [
            "Device set to use cpu\n"
          ]
        },
        {
          "name": "stdout",
          "output_type": "stream",
          "text": [
            "Enter the text you want to summarize: Copenhagen is a city that you visit for the vibe rather than for the sights. I found the most rewarding parts of Copenhagen to be wandering through the city and looking at the buildings, stopping for coffee at the coffee trucks along the harbor, and window shopping at the design stores.   Below is a list of the more unusual places I went to in Copenhagen on my latest trip. Many of these are cool corners that I found, not main tourist destinations - so this list isn’t in any way meant as a full itinerary.    This is not an unusual destination - this is Nyhavn, the tourist center of Copenhagen. But it photographs amazingly well, especially on days when the water in the canal is still.  Skiing at Copenhill  Have you ever wanted to go skiing on artificial turf on top of a power plant? Well, you’re in luck. Copenhill is a power plant that has been turned into a ski resort. No, seriously.  The roof of the ski resort is covered in a plastic grass substitute and bits of turf. You can ski down it with regular downhill skis, but it resembles skiing down ice rather than snow. And if you fall, it really hurts. The artificial turf tears up your skin and clothing, and you don’t want to wear your nicest ski gear here.  I ended up skiing down, although I found that it was more similar to going downhill on cross country skis - I never figured out how to edge enough to go down the normal way. (And true to form, I fell while I was on the tow rope. I have never successfully made it up a tow rope.)   I wouldn’t recommend the skiing, but the experience was really cool - I’m glad I did it, just to cross it off my bucket list.   You can also go up to the top either via a hike up concrete steps or an elevator and have a cup of coffee at the apres ski bar at the top. Or if you’re really, really adventurous, there’s a climbing wall that goes straight up the side of the facility.  Overall - I thought this was so cool to see. It’s such an inventive use of what would otherwise be an ugly power plant.    Reffen  Reffen is the name for an area filled with food trucks and outdoor seating, accessible by water taxi from downtown Copenhagen. There’s a shocking variety of food here - everything from American Southern to Nepalese to Kurdish to Peruvian. On sunny days in the spring and summer, it’s filled with locals looking to have delicious street food outside and enjoy the weather.   If you’ve got a long lunch break, or are looking for an afternoon to relax, take the water taxi out here, grab a beer and some food, and find a spot in the sun along the harbor. Copenhagen at its best.   Cisterns  The city of Copenhagen converted their old water cisterns into an underground art gallery. The humidity is at 100%  year round, and it’s always cold inside - and there’s usually water on the floor on top of that. The gallery now does site-specific art installations, which use the architecture of the cisterns. It’s another cool use of abandoned space.   The installation when I visited - it used light screens that changed as you walked around them.   Christiania  Christiania is a free city within Copenhagen. The people who live in Christiania essentially live in a commune in the center of the city. The part that most tourists visit is Pusher’s Alley, where you can see people selling all manner of illegal things. The police have basically agreed to not do raids in this area as long as all activity stays in this area, and photos aren’t allowed int he area.   But I actually think part of Christiania is the worst - it’s just a concentration of things I like to avoid. If you walk around the lake, you’ll be able to walk through the part of Christiania where people have built houses from whatever raw materials they could find. These houses are built in all kinds of interesting ways and are bright and colorful. There are no cars allowed in this area, so you’ll see lots of families out for walks.\n",
            "\n",
            "Summary:\n",
            " Copenhagen is a city that you visit for the vibe rather than for the sights . Many of these are cool corners that I found, not main tourist destinations - so this list isn’t in any way meant as a full itinerary . The city of Copenhagen converted their old water cisterns into an underground art gallery .\n"
          ]
        }
      ],
      "source": [
        "summarizer = pipeline(\"summarization\", model=\"sshleifer/distilbart-cnn-12-6\", revision=\"a4f8f3e\")\n",
        "\n",
        "text = input(\"Enter the text you want to summarize: \")\n",
        "\n",
        "summary = summarizer(text, max_length=100, min_length=60, do_sample=False)\n",
        "\n",
        "print(\"\\nSummary:\")\n",
        "print(summary[0]['summary_text'])"
      ]
    },
    {
      "cell_type": "markdown",
      "metadata": {
        "id": "mYqxBlzCJCVC"
      },
      "source": [
        "The abstract approach is a bit different from the extractive approach. I would call the summary created using the extractive method more \"inflexible\" because it consists of original sentences from the input text. However, these sentences are taken out of the whole and although they describe the same phenomenon, when combined they sound a bit unnatural. The abstract approach, on the other hand, creates a summary from scratch, so a new text based on the original. Here, this narrative is more \"natural\", although the whole summary does not sound perfect in my opinion, and the original text is not perfectly described."
      ]
    }
  ],
  "metadata": {
    "colab": {
      "provenance": []
    },
    "kernelspec": {
      "display_name": "Python 3",
      "name": "python3"
    },
    "language_info": {
      "name": "python"
    }
  },
  "nbformat": 4,
  "nbformat_minor": 0
}
